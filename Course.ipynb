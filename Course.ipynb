{
 "cells": [
  {
   "cell_type": "code",
   "execution_count": 17,
   "metadata": {
    "collapsed": false
   },
   "outputs": [],
   "source": [
    "import pandas as pd\n",
    "import xgboost as xgb\n",
    "import numpy as np\n",
    "from numpy import logspace, zeros, hstack\n",
    "from datetime import datetime\n",
    "from sklearn.preprocessing import scale\n",
    "from sklearn.metrics import roc_auc_score\n",
    "from sklearn.cross_validation import KFold, cross_val_predict\n",
    "from sklearn.linear_model import LogisticRegression"
   ]
  },
  {
   "cell_type": "code",
   "execution_count": 2,
   "metadata": {
    "collapsed": true
   },
   "outputs": [],
   "source": [
    "result_features = ['duration', \n",
    "                   'tower_status_radiant',\n",
    "                   'tower_status_dire',\n",
    "                   'barracks_status_radiant',\n",
    "                   'barracks_status_dire']\n",
    "features = pd.read_csv('data/features.csv', index_col='match_id')\n",
    "features.drop('start_time', axis=1, inplace=True)\n",
    "features.drop(result_features, axis=1, inplace=True)"
   ]
  },
  {
   "cell_type": "code",
   "execution_count": 3,
   "metadata": {
    "collapsed": false
   },
   "outputs": [
    {
     "name": "stdout",
     "output_type": "stream",
     "text": [
      "first_blood_time\n",
      "first_blood_team\n",
      "first_blood_player1\n",
      "first_blood_player2\n",
      "radiant_bottle_time\n",
      "radiant_courier_time\n",
      "radiant_flying_courier_time\n",
      "radiant_first_ward_time\n",
      "dire_bottle_time\n",
      "dire_courier_time\n",
      "dire_flying_courier_time\n",
      "dire_first_ward_time\n"
     ]
    }
   ],
   "source": [
    "feature_counts = features.count()\n",
    "na_features = feature_counts[feature_counts != features.shape[0]].index.values\n",
    "for name in na_features: \n",
    "    features[name].fillna(0, inplace=True)\n",
    "for i in na_features:\n",
    "    print(i)"
   ]
  },
  {
   "cell_type": "code",
   "execution_count": 4,
   "metadata": {
    "collapsed": false
   },
   "outputs": [],
   "source": [
    "Y = features['radiant_win']\n",
    "features.drop('radiant_win', axis=1, inplace=True)\n",
    "X = features"
   ]
  },
  {
   "cell_type": "code",
   "execution_count": 5,
   "metadata": {
    "collapsed": true
   },
   "outputs": [],
   "source": [
    "folds = KFold(features.shape[0], n_folds=5, shuffle=True)"
   ]
  },
  {
   "cell_type": "code",
   "execution_count": 6,
   "metadata": {
    "collapsed": false
   },
   "outputs": [],
   "source": [
    "tree_counts = [10, 20, 30, 40, 50, 60, 70, 80, 90, 100]\n",
    "\n",
    "def task_1(X, Y, counts):\n",
    "    class xgb_wrapper(xgb.XGBClassifier):\n",
    "        def predict(self, X):\n",
    "            return xgb.XGBClassifier.predict_proba(self, X)\n",
    "\n",
    "    for count in counts:\n",
    "        start_time = datetime.now()\n",
    "        probas = cross_val_predict(xgb_wrapper(n_estimators=count), X, Y, folds)\n",
    "        score = roc_auc_score(Y, probas[:,1])\n",
    "        time = datetime.now() - start_time\n",
    "        print('trees: {}, time: {}, score: {}'.format(count, time, score))"
   ]
  },
  {
   "cell_type": "code",
   "execution_count": null,
   "metadata": {
    "collapsed": false
   },
   "outputs": [],
   "source": [
    "task_1(X, Y, tree_counts)"
   ]
  },
  {
   "cell_type": "code",
   "execution_count": 134,
   "metadata": {
    "collapsed": false
   },
   "outputs": [
    {
     "name": "stdout",
     "output_type": "stream",
     "text": [
      "trees: 150, time: 0:00:58.905639, score: 0.7106615238047015\n",
      "trees: 200, time: 0:01:14.201833, score: 0.7137183105431796\n"
     ]
    }
   ],
   "source": [
    "task_1(X, Y, [150, 200])"
   ]
  },
  {
   "cell_type": "code",
   "execution_count": 7,
   "metadata": {
    "collapsed": true
   },
   "outputs": [],
   "source": [
    "hero_features = ['{}{}_hero'.format(j, i+1) for j in ['r','d'] for i in range(5)]"
   ]
  },
  {
   "cell_type": "code",
   "execution_count": 144,
   "metadata": {
    "collapsed": false
   },
   "outputs": [
    {
     "data": {
      "text/plain": [
       "108"
      ]
     },
     "execution_count": 144,
     "metadata": {},
     "output_type": "execute_result"
    }
   ],
   "source": [
    "def uniq_heroes(X):\n",
    "    heroes = set()\n",
    "    for h in hero_features:\n",
    "        for i in X[h]:\n",
    "            heroes.add(i)\n",
    "    return list(heroes)\n",
    "len(uniq_heroes(X))"
   ]
  },
  {
   "cell_type": "code",
   "execution_count": 11,
   "metadata": {
    "collapsed": false
   },
   "outputs": [],
   "source": [
    "def task_2(X, Y, folds):\n",
    "    X_scaled = scale(X)\n",
    "\n",
    "    class lr_wrapper(LogisticRegression):\n",
    "        def predict(self, X):\n",
    "            return LogisticRegression.predict_proba(self, X)\n",
    "\n",
    "    def best(X, y, folds):\n",
    "        best_score = -1\n",
    "        best_c = 0\n",
    "        best_time = 0\n",
    "\n",
    "        for c in logspace(-3, 0, num=5):\n",
    "            start_time = datetime.now()\n",
    "            clf = lr_wrapper(penalty='l2', C=c)\n",
    "            probas = cross_val_predict(clf, X, y, folds)\n",
    "            score = roc_auc_score(y, probas[:,1])\n",
    "            time = datetime.now() - start_time\n",
    "\n",
    "            print('C: {}, time: {}, score: {}'.format(c, time, score))\n",
    "\n",
    "            if score > best_score:\n",
    "                best_score = score\n",
    "                best_c = c\n",
    "                best_time = time\n",
    "\n",
    "        return best_c, best_score, best_time\n",
    "    c, score, time = best(X_scaled, Y, folds)\n",
    "    print (\"best C:{}, time: {}, score: {}\".format(c, time, score))"
   ]
  },
  {
   "cell_type": "code",
   "execution_count": 37,
   "metadata": {
    "collapsed": false
   },
   "outputs": [
    {
     "name": "stdout",
     "output_type": "stream",
     "text": [
      "C: 0.001, time: 0:00:06.956681, score: 0.7160242837290827\n",
      "C: 0.005623413251903491, time: 0:00:09.769686, score: 0.7162321338171613\n",
      "C: 0.03162277660168379, time: 0:00:11.032106, score: 0.7162128755551335\n",
      "C: 0.1778279410038923, time: 0:00:10.941017, score: 0.716205439687345\n",
      "C: 1.0, time: 0:00:10.848965, score: 0.716203595761612\n",
      "best C:0.005623413251903491, time: 0:00:09.769686, score: 0.7162321338171613\n"
     ]
    }
   ],
   "source": [
    "task_2(X, Y, folds)"
   ]
  },
  {
   "cell_type": "code",
   "execution_count": 38,
   "metadata": {
    "collapsed": false
   },
   "outputs": [],
   "source": [
    "featires_no_lobby = features.drop('lobby_type', axis=1)\n",
    "features_drop_heroes = featires_no_lobby.drop(hero_features, axis=1)"
   ]
  },
  {
   "cell_type": "code",
   "execution_count": 47,
   "metadata": {
    "collapsed": false
   },
   "outputs": [
    {
     "name": "stdout",
     "output_type": "stream",
     "text": [
      "C: 0.001, time: 0:00:06.463927, score: 0.7160353091508259\n",
      "C: 0.005623413251903491, time: 0:00:09.079025, score: 0.7162392214066978\n",
      "C: 0.03162277660168379, time: 0:00:09.818752, score: 0.71622008262699\n",
      "C: 0.1778279410038923, time: 0:00:09.921642, score: 0.7162111134027613\n",
      "C: 1.0, time: 0:00:09.931438, score: 0.7162096063154836\n",
      "best C:0.005623413251903491, time: 0:00:09.079025, score: 0.7162392214066978\n"
     ]
    }
   ],
   "source": [
    "# no categorial\n",
    "task_2(features_drop_heroes, Y, folds)"
   ]
  },
  {
   "cell_type": "code",
   "execution_count": 118,
   "metadata": {
    "collapsed": false
   },
   "outputs": [],
   "source": [
    "def bag_of_words(features, heroes):\n",
    "    X_pick = np.zeros((features.shape[0], max(heroes)))\n",
    "\n",
    "    for i, match_id in enumerate(features.index):\n",
    "        for p in range(5):\n",
    "            X_pick[i, features.ix[match_id, 'r%d_hero' % (p+1)]-1] = 1\n",
    "            X_pick[i, features.ix[match_id, 'd%d_hero' % (p+1)]-1] = -1\n",
    "    \n",
    "    return X_pick\n",
    "\n",
    "heroes = uniq_heroes()\n",
    "heroes_bag = bag_of_words(featires_no_lobby, heroes)"
   ]
  },
  {
   "cell_type": "code",
   "execution_count": 131,
   "metadata": {
    "collapsed": false
   },
   "outputs": [],
   "source": [
    "new_X = hstack((scale(features_drop_heroes), heroes_bag))"
   ]
  },
  {
   "cell_type": "code",
   "execution_count": 133,
   "metadata": {
    "collapsed": false
   },
   "outputs": [
    {
     "name": "stdout",
     "output_type": "stream",
     "text": [
      "C: 0.001, time: 0:00:12.467649, score: 0.7514523647988232\n",
      "C: 0.005623413251903491, time: 0:00:16.668586, score: 0.7518053681104867\n",
      "C: 0.03162277660168379, time: 0:00:18.454529, score: 0.7517761890026317\n",
      "C: 0.1778279410038923, time: 0:00:19.404638, score: 0.7517616053804506\n",
      "C: 1.0, time: 0:00:19.395077, score: 0.7517590424423165\n",
      "best C:0.005623413251903491, time: 0:00:16.668586, score: 0.7518053681104867\n"
     ]
    }
   ],
   "source": [
    "# categorial to bag of words\n",
    "task_2(new_X, Y, folds)"
   ]
  },
  {
   "cell_type": "code",
   "execution_count": 135,
   "metadata": {
    "collapsed": false
   },
   "outputs": [
    {
     "name": "stdout",
     "output_type": "stream",
     "text": [
      "trees: 150, time: 0:01:19.784864, score: 0.7224056014084447\n",
      "trees: 200, time: 0:01:47.696623, score: 0.7279447229570734\n"
     ]
    }
   ],
   "source": [
    "# categorial to bag of words xgb\n",
    "task_1(new_X, Y, [150, 200])"
   ]
  },
  {
   "cell_type": "code",
   "execution_count": 136,
   "metadata": {
    "collapsed": true
   },
   "outputs": [],
   "source": [
    "features_test = pd.read_csv('data/features_test.csv', index_col='match_id')\n",
    "features_test.drop('start_time', axis=1, inplace=True)\n",
    "\n",
    "\n",
    "feature_test_counts = features_test.count()\n",
    "na_features_test = feature_test_counts[feature_test_counts != features_test.shape[0]].index.values\n",
    "for name in na_features_test: features_test[name].fillna(0, inplace=True)"
   ]
  },
  {
   "cell_type": "code",
   "execution_count": 146,
   "metadata": {
    "collapsed": false
   },
   "outputs": [],
   "source": [
    "unique_heroes_test = uniq_heroes(features_test)\n",
    "heroes_bag_test = bag_of_words(features_test, unique_heroes_test)\n",
    "\n",
    "features_test.drop('lobby_type',axis=1, inplace=True)\n",
    "features_test.drop(hero_features, axis=1, inplace=True)\n",
    "\n",
    "X_scaled_test = hstack((scale(features_test), heroes_bag_test))\n"
   ]
  },
  {
   "cell_type": "code",
   "execution_count": 157,
   "metadata": {
    "collapsed": false
   },
   "outputs": [],
   "source": [
    "clf = LogisticRegression(penalty='l2', C=0.005623413251903491)\n",
    "clf.fit(new_X, Y)\n",
    "\n",
    "Y_pred = clf.predict(X_scaled_test)\n",
    "\n",
    "df = pd.DataFrame(index=features_test.index, columns=['radiant_win'])\n",
    "df['radiant_win'] = clf.predict_proba(X_scaled_test)\n",
    "df.to_csv('predictions.csv')"
   ]
  }
 ],
 "metadata": {
  "kernelspec": {
   "display_name": "Python [default]",
   "language": "python",
   "name": "python3"
  },
  "language_info": {
   "codemirror_mode": {
    "name": "ipython",
    "version": 3
   },
   "file_extension": ".py",
   "mimetype": "text/x-python",
   "name": "python",
   "nbconvert_exporter": "python",
   "pygments_lexer": "ipython3",
   "version": "3.5.2"
  }
 },
 "nbformat": 4,
 "nbformat_minor": 1
}
